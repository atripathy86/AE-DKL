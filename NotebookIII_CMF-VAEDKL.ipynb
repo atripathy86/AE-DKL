{
 "cells": [
  {
   "cell_type": "code",
   "execution_count": null,
   "id": "ff9dba81",
   "metadata": {},
   "outputs": [],
   "source": [
    "# @title Install packages\n",
    "!pip install wget\n",
    "!pip install rdkit-pypi\n",
    "!pip install selfies --upgrade\n",
    "!pip install -q --upgrade git+https://github.com/ziatdinovmax/gpax\n",
    "!pip install -q atomai  # we will use the AtomAI VAE"
   ]
  },
  {
   "cell_type": "code",
   "execution_count": 1,
   "id": "ed273cb2",
   "metadata": {},
   "outputs": [],
   "source": [
    "# @title Import libraries\n",
    "import wget\n",
    "import numpy as np\n",
    "import pandas as pd\n",
    "import seaborn as sns\n",
    "import matplotlib.pyplot as plt\n",
    "from PIL import Image\n",
    "from io import BytesIO\n",
    "import warnings\n",
    "\n",
    "import glob\n",
    "\n",
    "import rdkit\n",
    "from rdkit import Chem\n",
    "from rdkit.Chem import Descriptors\n",
    "from rdkit.Chem import rdMolDescriptors\n",
    "from rdkit.Chem import Draw\n",
    "\n",
    "import torch\n",
    "import torch.nn as nn\n",
    "tt = torch.tensor\n",
    "from math import log\n",
    "import matplotlib.pyplot as plt\n",
    "from pandas import json_normalize\n",
    "from scipy.spatial import distance\n",
    "\n",
    "import selfies as sf\n",
    "import gpax\n",
    "import atomai as aoi\n",
    "\n",
    "import jax.numpy as jnp\n",
    "gpax.utils.enable_x64()"
   ]
  },
  {
   "cell_type": "code",
   "execution_count": 2,
   "id": "03e3b050",
   "metadata": {},
   "outputs": [],
   "source": [
    "# @title Utility functions\n",
    "def find_nearest_neighbors(reference_idx, embedding, num_neighbors=9):\n",
    "    \"\"\"Find the indices of the nearest neighbors to a reference point.\"\"\"\n",
    "    reference_point = embedding[reference_idx]\n",
    "    distances = distance.cdist([reference_point], embedding, 'euclidean').flatten()\n",
    "    nearest_indices = np.argsort(distances)[1:num_neighbors+1]  # Exclude the reference point itself\n",
    "    warnings.filterwarnings(\"ignore\", category=UserWarning)  # Ignore userwarnings\n",
    "    return nearest_indices\n",
    "\n",
    "def find_indices(original, search):\n",
    "    indices = []\n",
    "    for row in search:\n",
    "        # Find the index of the row in the original array\n",
    "        index = np.where((original == row).all(axis=1))[0]\n",
    "        if index.size > 0:\n",
    "            indices.append(index[0])\n",
    "        else:\n",
    "            indices.append(-1)  # -1 indicates not found\n",
    "    return np.array(indices)\n",
    "\n",
    "def are_points_separated(point, other_points, min_distance):\n",
    "    \"\"\"Check if 'point' is at least 'min_distance' away from all points in 'other_points'.\"\"\"\n",
    "    return np.all(np.linalg.norm(other_points - point, axis=1) >= min_distance)"
   ]
  },
  {
   "cell_type": "markdown",
   "id": "a196bdec",
   "metadata": {},
   "source": [
    "Read in dataset (One of the subsets from QM9 containing 5000 randomly selected molecules)"
   ]
  },
  {
   "cell_type": "code",
   "execution_count": 3,
   "id": "03f469e8",
   "metadata": {},
   "outputs": [
    {
     "data": {
      "text/html": [
       "<div>\n",
       "<style scoped>\n",
       "    .dataframe tbody tr th:only-of-type {\n",
       "        vertical-align: middle;\n",
       "    }\n",
       "\n",
       "    .dataframe tbody tr th {\n",
       "        vertical-align: top;\n",
       "    }\n",
       "\n",
       "    .dataframe thead th {\n",
       "        text-align: right;\n",
       "    }\n",
       "</style>\n",
       "<table border=\"1\" class=\"dataframe\">\n",
       "  <thead>\n",
       "    <tr style=\"text-align: right;\">\n",
       "      <th></th>\n",
       "      <th>smiles</th>\n",
       "      <th>mole_logp</th>\n",
       "      <th>tpsa</th>\n",
       "      <th>mol_wt</th>\n",
       "      <th>hbd</th>\n",
       "      <th>hba</th>\n",
       "      <th>valencee</th>\n",
       "      <th>max_partialcharge</th>\n",
       "      <th>min_partialcharge</th>\n",
       "      <th>rotatablebd</th>\n",
       "      <th>...</th>\n",
       "      <th>stereocent</th>\n",
       "      <th>dipole_moment</th>\n",
       "      <th>enthalpy</th>\n",
       "      <th>internal_energy</th>\n",
       "      <th>internal_energy_zero</th>\n",
       "      <th>free_energy</th>\n",
       "      <th>homo</th>\n",
       "      <th>lumo</th>\n",
       "      <th>gap</th>\n",
       "      <th>zero_point_vib_energy</th>\n",
       "    </tr>\n",
       "  </thead>\n",
       "  <tbody>\n",
       "    <tr>\n",
       "      <th>80704</th>\n",
       "      <td>OCC(C#C)C#CC#C</td>\n",
       "      <td>-0.13530</td>\n",
       "      <td>20.23</td>\n",
       "      <td>118.041865</td>\n",
       "      <td>1</td>\n",
       "      <td>1</td>\n",
       "      <td>(44,)</td>\n",
       "      <td>0.104838</td>\n",
       "      <td>-0.394070</td>\n",
       "      <td>1</td>\n",
       "      <td>...</td>\n",
       "      <td>1</td>\n",
       "      <td>1.0110</td>\n",
       "      <td>-383.379422</td>\n",
       "      <td>-383.380366</td>\n",
       "      <td>-383.390139</td>\n",
       "      <td>-383.425247</td>\n",
       "      <td>-0.2487</td>\n",
       "      <td>-0.0227</td>\n",
       "      <td>0.2260</td>\n",
       "      <td>0.109023</td>\n",
       "    </tr>\n",
       "    <tr>\n",
       "      <th>65243</th>\n",
       "      <td>OC1C2NC1(C#C)C2O</td>\n",
       "      <td>-1.93440</td>\n",
       "      <td>52.49</td>\n",
       "      <td>125.047678</td>\n",
       "      <td>3</td>\n",
       "      <td>3</td>\n",
       "      <td>(48,)</td>\n",
       "      <td>0.135711</td>\n",
       "      <td>-0.388302</td>\n",
       "      <td>0</td>\n",
       "      <td>...</td>\n",
       "      <td>2</td>\n",
       "      <td>2.9389</td>\n",
       "      <td>-437.764349</td>\n",
       "      <td>-437.765293</td>\n",
       "      <td>-437.773455</td>\n",
       "      <td>-437.805879</td>\n",
       "      <td>-0.2457</td>\n",
       "      <td>0.0183</td>\n",
       "      <td>0.2640</td>\n",
       "      <td>0.123328</td>\n",
       "    </tr>\n",
       "    <tr>\n",
       "      <th>127044</th>\n",
       "      <td>C1C2C3CC(CCO3)N12</td>\n",
       "      <td>0.23180</td>\n",
       "      <td>12.24</td>\n",
       "      <td>125.084064</td>\n",
       "      <td>0</td>\n",
       "      <td>2</td>\n",
       "      <td>(50,)</td>\n",
       "      <td>0.075724</td>\n",
       "      <td>-0.376416</td>\n",
       "      <td>0</td>\n",
       "      <td>...</td>\n",
       "      <td>4</td>\n",
       "      <td>1.2046</td>\n",
       "      <td>-403.111686</td>\n",
       "      <td>-403.112630</td>\n",
       "      <td>-403.119162</td>\n",
       "      <td>-403.149575</td>\n",
       "      <td>-0.2233</td>\n",
       "      <td>0.0819</td>\n",
       "      <td>0.3052</td>\n",
       "      <td>0.175386</td>\n",
       "    </tr>\n",
       "    <tr>\n",
       "      <th>78132</th>\n",
       "      <td>CC1=CC2CC(O2)C1O</td>\n",
       "      <td>0.46470</td>\n",
       "      <td>29.46</td>\n",
       "      <td>126.068080</td>\n",
       "      <td>1</td>\n",
       "      <td>2</td>\n",
       "      <td>(50,)</td>\n",
       "      <td>0.101096</td>\n",
       "      <td>-0.386045</td>\n",
       "      <td>0</td>\n",
       "      <td>...</td>\n",
       "      <td>3</td>\n",
       "      <td>2.0914</td>\n",
       "      <td>-423.006427</td>\n",
       "      <td>-423.007371</td>\n",
       "      <td>-423.015176</td>\n",
       "      <td>-423.047111</td>\n",
       "      <td>-0.2388</td>\n",
       "      <td>0.0018</td>\n",
       "      <td>0.2405</td>\n",
       "      <td>0.160473</td>\n",
       "    </tr>\n",
       "    <tr>\n",
       "      <th>90425</th>\n",
       "      <td>CC1CC1(O)CCC=O</td>\n",
       "      <td>0.73640</td>\n",
       "      <td>37.30</td>\n",
       "      <td>128.083730</td>\n",
       "      <td>1</td>\n",
       "      <td>2</td>\n",
       "      <td>(52,)</td>\n",
       "      <td>0.119600</td>\n",
       "      <td>-0.389588</td>\n",
       "      <td>3</td>\n",
       "      <td>...</td>\n",
       "      <td>2</td>\n",
       "      <td>2.1074</td>\n",
       "      <td>-424.213274</td>\n",
       "      <td>-424.214219</td>\n",
       "      <td>-424.224729</td>\n",
       "      <td>-424.261135</td>\n",
       "      <td>-0.2481</td>\n",
       "      <td>-0.0208</td>\n",
       "      <td>0.2273</td>\n",
       "      <td>0.178994</td>\n",
       "    </tr>\n",
       "    <tr>\n",
       "      <th>...</th>\n",
       "      <td>...</td>\n",
       "      <td>...</td>\n",
       "      <td>...</td>\n",
       "      <td>...</td>\n",
       "      <td>...</td>\n",
       "      <td>...</td>\n",
       "      <td>...</td>\n",
       "      <td>...</td>\n",
       "      <td>...</td>\n",
       "      <td>...</td>\n",
       "      <td>...</td>\n",
       "      <td>...</td>\n",
       "      <td>...</td>\n",
       "      <td>...</td>\n",
       "      <td>...</td>\n",
       "      <td>...</td>\n",
       "      <td>...</td>\n",
       "      <td>...</td>\n",
       "      <td>...</td>\n",
       "      <td>...</td>\n",
       "      <td>...</td>\n",
       "    </tr>\n",
       "    <tr>\n",
       "      <th>117107</th>\n",
       "      <td>OC1C2C3NC3(C#N)C12</td>\n",
       "      <td>-1.15892</td>\n",
       "      <td>65.96</td>\n",
       "      <td>122.048013</td>\n",
       "      <td>2</td>\n",
       "      <td>3</td>\n",
       "      <td>(46,)</td>\n",
       "      <td>0.128183</td>\n",
       "      <td>-0.392345</td>\n",
       "      <td>0</td>\n",
       "      <td>...</td>\n",
       "      <td>5</td>\n",
       "      <td>6.3772</td>\n",
       "      <td>-416.738039</td>\n",
       "      <td>-416.738983</td>\n",
       "      <td>-416.746403</td>\n",
       "      <td>-416.778259</td>\n",
       "      <td>-0.2729</td>\n",
       "      <td>0.0142</td>\n",
       "      <td>0.2871</td>\n",
       "      <td>0.113488</td>\n",
       "    </tr>\n",
       "    <tr>\n",
       "      <th>8240</th>\n",
       "      <td>NC(=O)C(=O)NCC=O</td>\n",
       "      <td>-2.21320</td>\n",
       "      <td>89.26</td>\n",
       "      <td>130.037842</td>\n",
       "      <td>2</td>\n",
       "      <td>3</td>\n",
       "      <td>(50,)</td>\n",
       "      <td>0.308947</td>\n",
       "      <td>-0.361393</td>\n",
       "      <td>2</td>\n",
       "      <td>...</td>\n",
       "      <td>0</td>\n",
       "      <td>2.7234</td>\n",
       "      <td>-491.145917</td>\n",
       "      <td>-491.146862</td>\n",
       "      <td>-491.156301</td>\n",
       "      <td>-491.192146</td>\n",
       "      <td>-0.2543</td>\n",
       "      <td>-0.0462</td>\n",
       "      <td>0.2081</td>\n",
       "      <td>0.111181</td>\n",
       "    </tr>\n",
       "    <tr>\n",
       "      <th>82724</th>\n",
       "      <td>CC1C(C)N1CC1CO1</td>\n",
       "      <td>0.47780</td>\n",
       "      <td>15.54</td>\n",
       "      <td>127.099714</td>\n",
       "      <td>0</td>\n",
       "      <td>2</td>\n",
       "      <td>(52,)</td>\n",
       "      <td>0.093621</td>\n",
       "      <td>-0.371734</td>\n",
       "      <td>2</td>\n",
       "      <td>...</td>\n",
       "      <td>3</td>\n",
       "      <td>2.2996</td>\n",
       "      <td>-404.281755</td>\n",
       "      <td>-404.282699</td>\n",
       "      <td>-404.292728</td>\n",
       "      <td>-404.328359</td>\n",
       "      <td>-0.2208</td>\n",
       "      <td>0.0761</td>\n",
       "      <td>0.2969</td>\n",
       "      <td>0.192277</td>\n",
       "    </tr>\n",
       "    <tr>\n",
       "      <th>33180</th>\n",
       "      <td>NC(=O)C1CC1CCO</td>\n",
       "      <td>-0.50980</td>\n",
       "      <td>63.32</td>\n",
       "      <td>129.078979</td>\n",
       "      <td>2</td>\n",
       "      <td>2</td>\n",
       "      <td>(52,)</td>\n",
       "      <td>0.220321</td>\n",
       "      <td>-0.396365</td>\n",
       "      <td>3</td>\n",
       "      <td>...</td>\n",
       "      <td>2</td>\n",
       "      <td>3.7023</td>\n",
       "      <td>-440.294320</td>\n",
       "      <td>-440.295265</td>\n",
       "      <td>-440.305434</td>\n",
       "      <td>-440.341331</td>\n",
       "      <td>-0.2486</td>\n",
       "      <td>0.0246</td>\n",
       "      <td>0.2732</td>\n",
       "      <td>0.170268</td>\n",
       "    </tr>\n",
       "    <tr>\n",
       "      <th>116331</th>\n",
       "      <td>C(N1CC1)C1=NC=CO1</td>\n",
       "      <td>0.49020</td>\n",
       "      <td>29.04</td>\n",
       "      <td>124.063663</td>\n",
       "      <td>0</td>\n",
       "      <td>3</td>\n",
       "      <td>(48,)</td>\n",
       "      <td>0.207614</td>\n",
       "      <td>-0.447606</td>\n",
       "      <td>2</td>\n",
       "      <td>...</td>\n",
       "      <td>0</td>\n",
       "      <td>2.1648</td>\n",
       "      <td>-417.992235</td>\n",
       "      <td>-417.993179</td>\n",
       "      <td>-418.000900</td>\n",
       "      <td>-418.034384</td>\n",
       "      <td>-0.2385</td>\n",
       "      <td>0.0014</td>\n",
       "      <td>0.2399</td>\n",
       "      <td>0.137447</td>\n",
       "    </tr>\n",
       "  </tbody>\n",
       "</table>\n",
       "<p>5000 rows × 21 columns</p>\n",
       "</div>"
      ],
      "text/plain": [
       "                    smiles  mole_logp   tpsa      mol_wt  hbd  hba valencee  \\\n",
       "80704       OCC(C#C)C#CC#C   -0.13530  20.23  118.041865    1    1    (44,)   \n",
       "65243     OC1C2NC1(C#C)C2O   -1.93440  52.49  125.047678    3    3    (48,)   \n",
       "127044   C1C2C3CC(CCO3)N12    0.23180  12.24  125.084064    0    2    (50,)   \n",
       "78132     CC1=CC2CC(O2)C1O    0.46470  29.46  126.068080    1    2    (50,)   \n",
       "90425       CC1CC1(O)CCC=O    0.73640  37.30  128.083730    1    2    (52,)   \n",
       "...                    ...        ...    ...         ...  ...  ...      ...   \n",
       "117107  OC1C2C3NC3(C#N)C12   -1.15892  65.96  122.048013    2    3    (46,)   \n",
       "8240      NC(=O)C(=O)NCC=O   -2.21320  89.26  130.037842    2    3    (50,)   \n",
       "82724      CC1C(C)N1CC1CO1    0.47780  15.54  127.099714    0    2    (52,)   \n",
       "33180       NC(=O)C1CC1CCO   -0.50980  63.32  129.078979    2    2    (52,)   \n",
       "116331   C(N1CC1)C1=NC=CO1    0.49020  29.04  124.063663    0    3    (48,)   \n",
       "\n",
       "        max_partialcharge  min_partialcharge  rotatablebd  ...  stereocent  \\\n",
       "80704            0.104838          -0.394070            1  ...           1   \n",
       "65243            0.135711          -0.388302            0  ...           2   \n",
       "127044           0.075724          -0.376416            0  ...           4   \n",
       "78132            0.101096          -0.386045            0  ...           3   \n",
       "90425            0.119600          -0.389588            3  ...           2   \n",
       "...                   ...                ...          ...  ...         ...   \n",
       "117107           0.128183          -0.392345            0  ...           5   \n",
       "8240             0.308947          -0.361393            2  ...           0   \n",
       "82724            0.093621          -0.371734            2  ...           3   \n",
       "33180            0.220321          -0.396365            3  ...           2   \n",
       "116331           0.207614          -0.447606            2  ...           0   \n",
       "\n",
       "        dipole_moment    enthalpy  internal_energy  internal_energy_zero  \\\n",
       "80704          1.0110 -383.379422      -383.380366           -383.390139   \n",
       "65243          2.9389 -437.764349      -437.765293           -437.773455   \n",
       "127044         1.2046 -403.111686      -403.112630           -403.119162   \n",
       "78132          2.0914 -423.006427      -423.007371           -423.015176   \n",
       "90425          2.1074 -424.213274      -424.214219           -424.224729   \n",
       "...               ...         ...              ...                   ...   \n",
       "117107         6.3772 -416.738039      -416.738983           -416.746403   \n",
       "8240           2.7234 -491.145917      -491.146862           -491.156301   \n",
       "82724          2.2996 -404.281755      -404.282699           -404.292728   \n",
       "33180          3.7023 -440.294320      -440.295265           -440.305434   \n",
       "116331         2.1648 -417.992235      -417.993179           -418.000900   \n",
       "\n",
       "        free_energy    homo    lumo     gap  zero_point_vib_energy  \n",
       "80704   -383.425247 -0.2487 -0.0227  0.2260               0.109023  \n",
       "65243   -437.805879 -0.2457  0.0183  0.2640               0.123328  \n",
       "127044  -403.149575 -0.2233  0.0819  0.3052               0.175386  \n",
       "78132   -423.047111 -0.2388  0.0018  0.2405               0.160473  \n",
       "90425   -424.261135 -0.2481 -0.0208  0.2273               0.178994  \n",
       "...             ...     ...     ...     ...                    ...  \n",
       "117107  -416.778259 -0.2729  0.0142  0.2871               0.113488  \n",
       "8240    -491.192146 -0.2543 -0.0462  0.2081               0.111181  \n",
       "82724   -404.328359 -0.2208  0.0761  0.2969               0.192277  \n",
       "33180   -440.341331 -0.2486  0.0246  0.2732               0.170268  \n",
       "116331  -418.034384 -0.2385  0.0014  0.2399               0.137447  \n",
       "\n",
       "[5000 rows x 21 columns]"
      ]
     },
     "execution_count": 3,
     "metadata": {},
     "output_type": "execute_result"
    }
   ],
   "source": [
    "git_link = \"https://github.com/aghosh92/DKLActiveLearnMol/blob/main/datasets/dataset0_5k.csv?raw=true\"\n",
    "df = pd.read_csv(git_link, index_col=0)\n",
    "df"
   ]
  },
  {
   "cell_type": "markdown",
   "id": "d66419ff",
   "metadata": {},
   "source": [
    "CMF initialization"
   ]
  },
  {
   "cell_type": "code",
   "execution_count": 4,
   "id": "7f69aea5",
   "metadata": {},
   "outputs": [
    {
     "name": "stderr",
     "output_type": "stream",
     "text": [
      "/lustre/saranath/miniconda3/envs/vaedkl/lib/python3.9/pty.py:85: RuntimeWarning: os.fork() was called. os.fork() is incompatible with multithreaded code, and JAX is multithreaded, so this will likely lead to a deadlock.\n",
      "  pid, fd = os.forkpty()\n"
     ]
    },
    {
     "name": "stdout",
     "output_type": "stream",
     "text": [
      "vaedkl\n",
      "9b9513a27fa021b99eb5b5f777baaeabd570849aa2fa90ec626ee3a9d45a500b\n"
     ]
    },
    {
     "data": {
      "text/plain": [
       "'\\n!docker run --name vaedkl --rm -p7687:7687 -p7474:7474 -d -v $HOME/neo4j/data:/data -v $HOME/neo4j/logs:/logs -v $HOME/neo4j/import:/var/lib/neo4j/import -v $HOME/neo4j/plugins:/plugins --env NEO4J_AUTH=neo4j/test1234 neo4j:latest '"
      ]
     },
     "execution_count": 4,
     "metadata": {},
     "output_type": "execute_result"
    }
   ],
   "source": [
    "!docker stop \"vaedkl\"\n",
    "\n",
    "!docker run --name vaedkl --rm -p7687:7687 -p7474:7474 -d -v $HOME/neo4j/data:/data -v $HOME/neo4j/logs:/logs -v $HOME/neo4j/import:/var/lib/neo4j/import -v $HOME/neo4j/plugins:/plugins --env NEO4J_AUTH=neo4j/test1234 neo4j:latest\n",
    "                            \n",
    "'''\n",
    "!docker run --name vaedkl --rm -p7687:7687 -p7474:7474 \\\n",
    "-d -v $HOME/neo4j/data:/data -v $HOME/neo4j/logs:/logs \\\n",
    "-v $HOME/neo4j/import:/var/lib/neo4j/import -v $HOME/neo4j/plugins:/plugins \\\n",
    "--env NEO4J_AUTH=neo4j/test1234 neo4j:latest '''"
   ]
  },
  {
   "cell_type": "code",
   "execution_count": null,
   "id": "6c9566af",
   "metadata": {},
   "outputs": [],
   "source": [
    "!sudo neo4j start"
   ]
  },
  {
   "cell_type": "code",
   "execution_count": null,
   "id": "9fdb32de",
   "metadata": {},
   "outputs": [],
   "source": [
    "!git config --list --show-origin"
   ]
  },
  {
   "cell_type": "code",
   "execution_count": 5,
   "id": "c9f7feb6",
   "metadata": {},
   "outputs": [
    {
     "name": "stdout",
     "output_type": "stream",
     "text": [
      "git_dir /lustre/saranath/Techcon24/AE-DKL/.git\n",
      "Starting cmf init.\n",
      "Setting 'local-storage' as a default remote.\n",
      "cmf init complete.\n",
      "\u001b[0m"
     ]
    },
    {
     "data": {
      "text/plain": [
       "'\\n!cmf init local --path /VAEDKL/ --git-remote-url https://github.com/atripathy86/AE-DKL/ --cmf-server-url http://127.0.0.1:80 --neo4j-user neo4j --neo4j-password test1234 --neo4j-uri bolt://localhost:7687\\n'"
      ]
     },
     "execution_count": 5,
     "metadata": {},
     "output_type": "execute_result"
    }
   ],
   "source": [
    "!cmf init local --path /VAEDKL/ --git-remote-url https://github.com/gayathri-saranathan/VAEDKL/ --cmf-server-url http://127.0.0.1:80 --neo4j-user neo4j --neo4j-password test1234 --neo4j-uri bolt://localhost:7687\n",
    "\n",
    "'''\n",
    "!cmf init local --path /VAEDKL/ --git-remote-url https://github.com/atripathy86/AE-DKL/ \\\n",
    "--cmf-server-url http://127.0.0.1:80 --neo4j-user neo4j --neo4j-password test1234 \\\n",
    "--neo4j-uri bolt://localhost:7687\n",
    "'''"
   ]
  },
  {
   "cell_type": "code",
   "execution_count": 6,
   "id": "913b7240",
   "metadata": {},
   "outputs": [
    {
     "name": "stdout",
     "output_type": "stream",
     "text": [
      "*** Note: CMF will check out a new branch in git to commit the metadata files ***\n",
      "*** The checked out branch is aldkl_vae. ***\n"
     ]
    }
   ],
   "source": [
    "from cmflib.cmf import Cmf\n",
    "from ml_metadata.proto import metadata_store_pb2 as mlpb \n",
    "\n",
    "graph = True \n",
    "#metawriter = Cmf(filename=\"mlmd\", pipeline_name=\"aifcmf-env\")\n",
    "!rm -rf aldkl_vae\n",
    "cmf = Cmf(\n",
    "    filename=\"aldkl_vae\",\n",
    "    pipeline_name=\"VAEDKL\",\n",
    "    graph = graph\n",
    ")"
   ]
  },
  {
   "cell_type": "code",
   "execution_count": 7,
   "id": "d90fcbe3",
   "metadata": {},
   "outputs": [
    {
     "name": "stdout",
     "output_type": "stream",
     "text": [
      "(5000, 567)\n"
     ]
    }
   ],
   "source": [
    "selfies_dataset = []\n",
    "error_smiles = []\n",
    "\n",
    "# Assuming 'smiles' is the column in df containing SMILES strings\n",
    "# Replace 'smiles' with the actual column name if it's different\n",
    "for i, row in df.iterrows():\n",
    "    try:\n",
    "        local_sf = sf.encoder(row['smiles'])\n",
    "        selfies_dataset.append(local_sf)\n",
    "    except Exception as e:\n",
    "        print(f\"Error encoding SMILES at index {i}: {e}\")\n",
    "        error_smiles.append(row['smiles'])  # Store the SMILES string that caused the error\n",
    "        continue  # Skip to the next iteration\n",
    "\n",
    "#for producing corresponding one-hot vectors\n",
    "alphabet = sf.get_alphabet_from_selfies(selfies_dataset)\n",
    "alphabet.add(\"[nop]\")  # [nop] is a special padding symbol\n",
    "alphabet = list(sorted(alphabet))\n",
    "\n",
    "length_list = []\n",
    "for s in selfies_dataset:\n",
    "  length = sf.len_selfies(s)\n",
    "  length_list.append(length)\n",
    "length_list.sort()\n",
    "pad_to_len = length_list[-1]\n",
    "\n",
    "symbol_to_idx = {s: i for i, s in enumerate(alphabet)}\n",
    "\n",
    "labels = []\n",
    "one_hot_vectors = []\n",
    "for i in range(len(selfies_dataset)):\n",
    "\n",
    "  label, one_hot = sf.selfies_to_encoding(selfies=selfies_dataset[i], vocab_stoi=symbol_to_idx,\n",
    "                                          pad_to_len=pad_to_len, enc_type=\"both\")\n",
    "  labels.append(label)\n",
    "  one_hot_vectors.append(one_hot)\n",
    "\n",
    "molecules = np.array(one_hot_vectors)\n",
    "s1, s2, s3 = molecules.shape\n",
    "X = np.asarray(molecules).reshape([-1,s2*s3])\n",
    "np.save(\"VAEDKL_logs/endoded_data.npy\",X)\n",
    "print(X.shape)"
   ]
  },
  {
   "cell_type": "code",
   "execution_count": 8,
   "id": "7fa8f03b",
   "metadata": {},
   "outputs": [],
   "source": [
    "context_stage1 = cmf.create_context(pipeline_stage=\"Prepare\",\n",
    "                                          custom_properties={\"Symbols\":symbol_to_idx,\n",
    "                                                            \"Data_size\":X.shape})"
   ]
  },
  {
   "cell_type": "code",
   "execution_count": 9,
   "id": "71d9c87c",
   "metadata": {},
   "outputs": [],
   "source": [
    "#Different targets\n",
    "targets1 = df['ringct'].values\n",
    "targets2 = df['mole_logp'].values\n",
    "targets3 = df['mol_wt'].values\n",
    "targets4 = df['dipole_moment'].values"
   ]
  },
  {
   "cell_type": "markdown",
   "id": "2d8fd8db",
   "metadata": {},
   "source": [
    "For illustration purpose, we show the training on 1,000 molecules since training on a higher number of molecules may take longer & more computing resources."
   ]
  },
  {
   "cell_type": "code",
   "execution_count": 11,
   "id": "c689d732",
   "metadata": {},
   "outputs": [
    {
     "name": "stdout",
     "output_type": "stream",
     "text": [
      "\n",
      "Inferred GP kernel parameters\n",
      "k_length         [1.3033 1.0485]\n",
      "k_scale          4.1401\n",
      "noise            0.0165\n"
     ]
    }
   ],
   "source": [
    "X1 = np.copy(X)\n",
    "X1 = X1[:1000]\n",
    "targets1 = targets1[:1000]\n",
    "\n",
    "np.save(\"VAEDKL_logs/train_data.npy\",np.array(X1))\n",
    "np.save(\"VAEDKL_logs/target_data.npy\",np.array(targets1))\n",
    "\n",
    "#Train the DKL model\n",
    "rng_key_1, rng_key_predict_1 = gpax.utils.get_keys()\n",
    "dkl_1 = gpax.viDKL(s2*s3, 2, 'RBF')\n",
    "dkl_1.fit(rng_key_1, X1, targets1)\n",
    "loss = dkl_1.loss\n",
    "np.save(\"VAEDKL_logs/loss_dkl_1.npy\",np.array(loss))"
   ]
  },
  {
   "cell_type": "code",
   "execution_count": 12,
   "id": "a16125f8",
   "metadata": {},
   "outputs": [],
   "source": [
    "weights_and_biases = dkl_1.nn_params\n",
    "np.save(\"VAEDKL_logs/dkl_1_params.npy\",weights_and_biases)"
   ]
  },
  {
   "cell_type": "code",
   "execution_count": null,
   "id": "0608c302-5859-4308-b03a-439ef025170c",
   "metadata": {},
   "outputs": [],
   "source": [
    "#Saving the model - %%%% Verify"
   ]
  },
  {
   "cell_type": "code",
   "execution_count": 13,
   "id": "cc6859ab",
   "metadata": {},
   "outputs": [],
   "source": [
    "torch.save(dkl_1.nn_params,\"VAEDKL_logs/dkl_1_model.pt\")"
   ]
  },
  {
   "cell_type": "code",
   "execution_count": 14,
   "id": "dca34d45",
   "metadata": {},
   "outputs": [],
   "source": [
    "execution_stage1 = cmf.create_execution(execution_type=\"Train viDKL\",\n",
    "                                              custom_properties={\"Kernel_Parameters\":dkl_1.kernel_params,\n",
    "                                                                \"Kernel_Name\":dkl_1.kernel_name,\n",
    "                                                                \"Kernel_Dimension\":dkl_1.kernel_dim,\n",
    "                                                                \"Guide_type\":dkl_1.guide_type})\n"
   ]
  },
  {
   "cell_type": "code",
   "execution_count": 15,
   "id": "c89ef3c2",
   "metadata": {},
   "outputs": [],
   "source": [
    "_ = cmf.log_dataset(\"VAEDKL_logs/train_data.npy\",\"input\")\n",
    "\n",
    "_ = cmf.log_dataset(\"VAEDKL_logs/target_data.npy\",\"input\")\n",
    "\n",
    "_ = cmf.log_model(\"VAEDKL_logs/dkl_1_model.pt\",\"output\",model_framework=\"pytorch\")\n",
    "\n",
    "for ls in loss:\n",
    "    cmf.log_metric(\"training_metrics\",{\"training_loss\":float(ls)})\n",
    "_ = cmf.commit_metrics(\"training_metrics\")\n"
   ]
  },
  {
   "cell_type": "code",
   "execution_count": 16,
   "id": "e1356a2c",
   "metadata": {},
   "outputs": [],
   "source": [
    "batch_size_reconstruct = 250\n",
    "embeded_1 = dkl_1.embed(X1)\n",
    "pred_mean1, pred_var1 = dkl_1.predict_in_batches(rng_key_predict_1, X1, batch_size=batch_size_reconstruct)\n",
    "pred_std1 = jnp.sqrt(pred_var1)"
   ]
  },
  {
   "cell_type": "code",
   "execution_count": 17,
   "id": "5237ee38-6f2f-485a-9d93-55a1e24886e5",
   "metadata": {},
   "outputs": [],
   "source": [
    "execution_stage1 = cmf.create_execution(execution_type=\"Predict viDKL\",\n",
    "                                              custom_properties={\"Kernel_Parameters\":dkl_1.kernel_params,\n",
    "                                                                \"Kernel_Name\":dkl_1.kernel_name,\n",
    "                                                                \"Kernel_Dimension\":dkl_1.kernel_dim,\n",
    "                                                                \"Guide_type\":dkl_1.guide_type,\n",
    "                                                                \"Batch_Size\":batch_size_reconstruct})"
   ]
  },
  {
   "cell_type": "code",
   "execution_count": 18,
   "id": "db3ca128",
   "metadata": {},
   "outputs": [],
   "source": [
    "np.save(\"VAEDKL_logs/embedding.npy\", np.array(embeded_1))\n",
    "np.save(\"VAEDKL_logs/predicted_mean.npy\",np.array(pred_mean1))\n",
    "np.save(\"VAEDKL_logs/predicted_unc.npy\",np.array(pred_var1))\n",
    "np.save(\"VAEDKL_logs/prediccted_std.npy\",np.array(pred_std1))"
   ]
  },
  {
   "cell_type": "code",
   "execution_count": null,
   "id": "c7cf56ee-38e6-4ca8-b2bb-abe7c7d624e4",
   "metadata": {},
   "outputs": [],
   "source": [
    "_ = cmf.log_dataset(\"VAEDKL_logs/embedding.npy\",\"output\")\n",
    "\n",
    "_ = cmf.log_dataset(\"VAEDKL_logs/prediccted_std.npy\",\"output\")\n",
    "\n",
    "_ = cmf.log_dataset(\"VAEDKL_logs/predicted_mean.npy\",\"output\")\n",
    "_ = cmf.log_dataset(\"VAEDKL_logs/indices_train_al.npy\",\"output\")\n",
    "\n",
    "_ = cmf.log_dataset(\"VAEDKL_logs/predicted_unc.npy\",\"output\")\n",
    "_ = cmf.log_dataset(\"VAEDKL_logs/indices_unmeasured_al.npy\",\"output\")\n",
    "\n",
    "\n",
    "_ = cmf.log_dataset(\"VAEDKL_logs/train_data.npy\",\"input\")\n",
    "\n",
    "_ = cmf.log_model(\"VAEDKL_logs/dkl_1_model.pt\",\"input\",model_framework=\"pytorch\")\n"
   ]
  },
  {
   "cell_type": "markdown",
   "id": "91e913e7-b3a3-4679-b2f5-fd342463295f",
   "metadata": {},
   "source": [
    "#### Active Learning Part"
   ]
  },
  {
   "cell_type": "code",
   "execution_count": null,
   "id": "53446f75-13c6-421a-a70d-131ace7147aa",
   "metadata": {},
   "outputs": [],
   "source": [
    "X1 = np.copy(X)\n",
    "X1 = X1[:1000]\n",
    "#target\n",
    "targets1 = - df['enthalpy'].values\n",
    "targets1 = targets1[:1000]\n",
    "\n",
    "np.save(\"VAEDKL_logs/X_al.npy\",np.array(X1))\n",
    "np.save(\"VAEDKL_logs/trgt_enthalpy_al.npy\",np.array(targets1))"
   ]
  },
  {
   "cell_type": "markdown",
   "id": "47f07869-3c5b-4594-8506-e6c06c135590",
   "metadata": {},
   "source": [
    "For illustration purpose, we show the training on 1,000 molecules with 30 exploration steps since training on a higher number of molecules may take longer & more computing resources."
   ]
  },
  {
   "cell_type": "code",
   "execution_count": null,
   "id": "41e47014-eb16-4e6f-a82d-554f237c3d3d",
   "metadata": {},
   "outputs": [],
   "source": [
    "#Active learning setup parameters\n",
    "init_num = 50\n",
    "exp_step = 30\n",
    "batch_size_learn = 50 #make it 100 if start with 100 seed\n",
    "batch_size_reconstruct = 250"
   ]
  },
  {
   "cell_type": "code",
   "execution_count": 17,
   "id": "51454e3d-bdac-4d23-86e5-d893bb9febc8",
   "metadata": {},
   "outputs": [],
   "source": [
    "context_stage2 = cmf.create_context(pipeline_stage=\"Active Learning\",\n",
    "                                          custom_properties={\"Number_of_training_points\":init_num,\n",
    "                                                            \"Total_Data_size\":X1.shape,\n",
    "                                                            \"Exploration_Steps\":exp_step,\n",
    "                                                            \"Batch_size\":batch_size_learn,\n",
    "                                                            \"Batch_size_reconstruct\":batch_size_reconstruct})\n",
    "\n"
   ]
  },
  {
   "cell_type": "code",
   "execution_count": 11,
   "id": "edd4b9c7-d99a-4989-9e14-3533be87d105",
   "metadata": {},
   "outputs": [],
   "source": [
    "np.random.seed(0)\n",
    "idx1 = np.random.choice(np.arange(len(X1)), size = init_num, replace = False)\n",
    "X1_train = X1[idx1]\n",
    "X1_unmeasured = np.delete(X1, idx1, axis=0)\n",
    "\n",
    "indices_total_1 = np.arange(len(X))\n",
    "indices_train_1 = indices_total_1[idx1]\n",
    "\n",
    "y1_train = targets1[idx1]\n",
    "indices_unmeasured_1 = np.delete(indices_total_1, idx1)\n",
    "\n",
    "np.save(\"VAEDKL_logs/X_train_al.npy\",np.array(X1_train))\n",
    "np.save(\"VAEDKL_logs/X_unmeasured_al.npy\",np.array(X1_unmeasured))\n",
    "\n",
    "np.save(\"VAEDKL_logs/indices_train_al.npy\",np.array(indices_train_1))\n",
    "np.save(\"VAEDKL_logs/indices_unmeasured_al.npy\",np.array(indices_unmeasured_1))\n",
    "\n",
    "np.save(\"VAEDKL_logs/trgt_enthalpy_train_al.npy\",np.array(y1_train))"
   ]
  },
  {
   "cell_type": "code",
   "execution_count": 24,
   "id": "8ba99659-4ff6-4b20-83a4-d1efb6c3dd3f",
   "metadata": {},
   "outputs": [],
   "source": [
    "execution_stage2 = cmf.create_execution(execution_type=\"Active Learning\",\n",
    "                                        custom_properties={\"Number_of_training_points\":init_num,\n",
    "                                                           \"Exploration_Steps\":exp_step,\n",
    "                                                           \"Train_size\":X1_train.shape,\n",
    "                                                           \"Unmeasured_size\":X1_unmeasured.shape,\n",
    "                                                           \"indices_selected\":idx1})"
   ]
  },
  {
   "cell_type": "code",
   "execution_count": 12,
   "id": "92e73ef0-7835-44a7-87b0-c635b28fc5e9",
   "metadata": {},
   "outputs": [
    {
     "name": "stdout",
     "output_type": "stream",
     "text": [
      "\n",
      "Step 1\n"
     ]
    },
    {
     "name": "stderr",
     "output_type": "stream",
     "text": [
      "100%|█| 1000/1000 [00:02<00:00, 431.16it/s, init loss: 1217497.7502, avg. loss [95\n"
     ]
    },
    {
     "name": "stdout",
     "output_type": "stream",
     "text": [
      "\n",
      "Inferred GP kernel parameters\n",
      "k_length         [1.4005 0.9728]\n",
      "k_scale          6.2304\n",
      "noise            2.3708\n",
      "\n",
      "Step 2\n"
     ]
    },
    {
     "name": "stderr",
     "output_type": "stream",
     "text": [
      "100%|█| 1000/1000 [00:02<00:00, 428.86it/s, init loss: 1219386.7387, avg. loss [95\n"
     ]
    },
    {
     "name": "stdout",
     "output_type": "stream",
     "text": [
      "\n",
      "Inferred GP kernel parameters\n",
      "k_length         [1.4061 0.9697]\n",
      "k_scale          6.236400000000001\n",
      "noise            2.3471\n",
      "\n",
      "Step 3\n"
     ]
    },
    {
     "name": "stderr",
     "output_type": "stream",
     "text": [
      "100%|█| 1000/1000 [00:02<00:00, 428.30it/s, init loss: 1220754.4629, avg. loss [95\n"
     ]
    },
    {
     "name": "stdout",
     "output_type": "stream",
     "text": [
      "\n",
      "Inferred GP kernel parameters\n",
      "k_length         [1.4018 0.9692]\n",
      "k_scale          6.2302\n",
      "noise            2.3539000000000003\n",
      "\n",
      "Step 4\n"
     ]
    },
    {
     "name": "stderr",
     "output_type": "stream",
     "text": [
      "100%|█| 1000/1000 [00:02<00:00, 431.81it/s, init loss: 1223580.4929, avg. loss [95\n"
     ]
    },
    {
     "name": "stdout",
     "output_type": "stream",
     "text": [
      "\n",
      "Inferred GP kernel parameters\n",
      "k_length         [1.4208 0.9787]\n",
      "k_scale          6.201300000000001\n",
      "noise            2.3718\n",
      "\n",
      "Step 5\n"
     ]
    },
    {
     "name": "stderr",
     "output_type": "stream",
     "text": [
      "100%|█| 1000/1000 [00:02<00:00, 407.97it/s, init loss: 1229329.7420, avg. loss [95\n"
     ]
    },
    {
     "name": "stdout",
     "output_type": "stream",
     "text": [
      "\n",
      "Inferred GP kernel parameters\n",
      "k_length         [1.4208 0.9574]\n",
      "k_scale          6.1771\n",
      "noise            2.3669000000000002\n",
      "\n",
      "Step 6\n"
     ]
    },
    {
     "name": "stderr",
     "output_type": "stream",
     "text": [
      "100%|█| 1000/1000 [00:02<00:00, 404.57it/s, init loss: 1234676.2206, avg. loss [95\n"
     ]
    },
    {
     "name": "stdout",
     "output_type": "stream",
     "text": [
      "\n",
      "Inferred GP kernel parameters\n",
      "k_length         [1.4111 0.971 ]\n",
      "k_scale          6.1713000000000005\n",
      "noise            2.3664\n",
      "\n",
      "Step 7\n"
     ]
    },
    {
     "name": "stderr",
     "output_type": "stream",
     "text": [
      "100%|█| 1000/1000 [00:02<00:00, 403.39it/s, init loss: 1239720.7219, avg. loss [95\n"
     ]
    },
    {
     "name": "stdout",
     "output_type": "stream",
     "text": [
      "\n",
      "Inferred GP kernel parameters\n",
      "k_length         [1.3957 0.9572]\n",
      "k_scale          6.1526000000000005\n",
      "noise            2.3785000000000003\n",
      "\n",
      "Step 8\n"
     ]
    },
    {
     "name": "stderr",
     "output_type": "stream",
     "text": [
      "100%|█| 1000/1000 [00:02<00:00, 381.01it/s, init loss: 1251305.6825, avg. loss [95\n"
     ]
    },
    {
     "name": "stdout",
     "output_type": "stream",
     "text": [
      "\n",
      "Inferred GP kernel parameters\n",
      "k_length         [1.4155 0.957 ]\n",
      "k_scale          6.1809\n",
      "noise            2.3755\n",
      "\n",
      "Step 9\n"
     ]
    },
    {
     "name": "stderr",
     "output_type": "stream",
     "text": [
      "100%|█| 1000/1000 [00:02<00:00, 393.56it/s, init loss: 1260401.1145, avg. loss [95\n"
     ]
    },
    {
     "name": "stdout",
     "output_type": "stream",
     "text": [
      "\n",
      "Inferred GP kernel parameters\n",
      "k_length         [1.4279 0.957 ]\n",
      "k_scale          6.1379\n",
      "noise            2.4075\n",
      "\n",
      "Step 10\n"
     ]
    },
    {
     "name": "stderr",
     "output_type": "stream",
     "text": [
      "100%|█| 1000/1000 [00:02<00:00, 358.04it/s, init loss: 1261969.0644, avg. loss [95\n"
     ]
    },
    {
     "name": "stdout",
     "output_type": "stream",
     "text": [
      "\n",
      "Inferred GP kernel parameters\n",
      "k_length         [1.44   0.9735]\n",
      "k_scale          6.119800000000001\n",
      "noise            2.4104\n",
      "\n",
      "Step 11\n"
     ]
    },
    {
     "name": "stderr",
     "output_type": "stream",
     "text": [
      "100%|█| 1000/1000 [00:02<00:00, 341.24it/s, init loss: 1286281.3130, avg. loss [95\n"
     ]
    },
    {
     "name": "stdout",
     "output_type": "stream",
     "text": [
      "\n",
      "Inferred GP kernel parameters\n",
      "k_length         [1.4018 0.9716]\n",
      "k_scale          6.0961\n",
      "noise            2.3592\n",
      "\n",
      "Step 12\n"
     ]
    },
    {
     "name": "stderr",
     "output_type": "stream",
     "text": [
      "100%|█| 1000/1000 [00:03<00:00, 298.40it/s, init loss: 1293325.8219, avg. loss [95\n"
     ]
    },
    {
     "name": "stdout",
     "output_type": "stream",
     "text": [
      "\n",
      "Inferred GP kernel parameters\n",
      "k_length         [1.3926 0.9613]\n",
      "k_scale          6.043200000000001\n",
      "noise            2.3555\n",
      "\n",
      "Step 13\n"
     ]
    },
    {
     "name": "stderr",
     "output_type": "stream",
     "text": [
      "100%|█| 1000/1000 [00:03<00:00, 288.01it/s, init loss: 1295336.8520, avg. loss [95\n"
     ]
    },
    {
     "name": "stdout",
     "output_type": "stream",
     "text": [
      "\n",
      "Inferred GP kernel parameters\n",
      "k_length         [1.4145 0.9606]\n",
      "k_scale          6.0552\n",
      "noise            2.3759\n",
      "\n",
      "Step 14\n"
     ]
    },
    {
     "name": "stderr",
     "output_type": "stream",
     "text": [
      "100%|█| 1000/1000 [00:03<00:00, 294.29it/s, init loss: 1297509.9440, avg. loss [95\n"
     ]
    },
    {
     "name": "stdout",
     "output_type": "stream",
     "text": [
      "\n",
      "Inferred GP kernel parameters\n",
      "k_length         [1.3952 0.9615]\n",
      "k_scale          6.0679\n",
      "noise            2.3754\n",
      "\n",
      "Step 15\n"
     ]
    },
    {
     "name": "stderr",
     "output_type": "stream",
     "text": [
      "100%|█| 1000/1000 [00:03<00:00, 286.47it/s, init loss: 1299079.1582, avg. loss [95\n"
     ]
    },
    {
     "name": "stdout",
     "output_type": "stream",
     "text": [
      "\n",
      "Inferred GP kernel parameters\n",
      "k_length         [1.4263 0.9711]\n",
      "k_scale          6.071400000000001\n",
      "noise            2.4045\n",
      "\n",
      "Step 16\n"
     ]
    },
    {
     "name": "stderr",
     "output_type": "stream",
     "text": [
      "100%|█| 1000/1000 [00:04<00:00, 249.80it/s, init loss: 1315826.8396, avg. loss [95\n"
     ]
    },
    {
     "name": "stdout",
     "output_type": "stream",
     "text": [
      "\n",
      "Inferred GP kernel parameters\n",
      "k_length         [1.4095 0.9743]\n",
      "k_scale          6.0574\n",
      "noise            2.3645\n",
      "\n",
      "Step 17\n"
     ]
    },
    {
     "name": "stderr",
     "output_type": "stream",
     "text": [
      "100%|█| 1000/1000 [00:03<00:00, 264.85it/s, init loss: 1321211.2235, avg. loss [95\n"
     ]
    },
    {
     "name": "stdout",
     "output_type": "stream",
     "text": [
      "\n",
      "Inferred GP kernel parameters\n",
      "k_length         [1.4005 0.9474]\n",
      "k_scale          6.0225\n",
      "noise            2.3809\n",
      "\n",
      "Step 18\n"
     ]
    },
    {
     "name": "stderr",
     "output_type": "stream",
     "text": [
      "100%|█| 1000/1000 [00:04<00:00, 246.67it/s, init loss: 1326293.4468, avg. loss [95\n"
     ]
    },
    {
     "name": "stdout",
     "output_type": "stream",
     "text": [
      "\n",
      "Inferred GP kernel parameters\n",
      "k_length         [1.3957 0.9706]\n",
      "k_scale          6.0099\n",
      "noise            2.4143000000000003\n",
      "\n",
      "Step 19\n"
     ]
    },
    {
     "name": "stderr",
     "output_type": "stream",
     "text": [
      "100%|█| 1000/1000 [00:03<00:00, 263.99it/s, init loss: 1334831.3427, avg. loss [95\n"
     ]
    },
    {
     "name": "stdout",
     "output_type": "stream",
     "text": [
      "\n",
      "Inferred GP kernel parameters\n",
      "k_length         [1.4005 0.9547]\n",
      "k_scale          6.0364\n",
      "noise            2.4162\n",
      "\n",
      "Step 20\n"
     ]
    },
    {
     "name": "stderr",
     "output_type": "stream",
     "text": [
      "100%|█| 1000/1000 [00:04<00:00, 232.69it/s, init loss: 1335079.8503, avg. loss [95\n"
     ]
    },
    {
     "name": "stdout",
     "output_type": "stream",
     "text": [
      "\n",
      "Inferred GP kernel parameters\n",
      "k_length         [1.4232 0.9691]\n",
      "k_scale          6.053100000000001\n",
      "noise            2.4132000000000002\n",
      "\n",
      "Step 21\n"
     ]
    },
    {
     "name": "stderr",
     "output_type": "stream",
     "text": [
      "100%|█| 1000/1000 [00:03<00:00, 252.85it/s, init loss: 1339245.0285, avg. loss [95\n"
     ]
    },
    {
     "name": "stdout",
     "output_type": "stream",
     "text": [
      "\n",
      "Inferred GP kernel parameters\n",
      "k_length         [1.4073 0.9674]\n",
      "k_scale          6.0364\n",
      "noise            2.4051\n",
      "\n",
      "Step 22\n"
     ]
    },
    {
     "name": "stderr",
     "output_type": "stream",
     "text": [
      "100%|█| 1000/1000 [00:04<00:00, 220.63it/s, init loss: 1340120.9270, avg. loss [95\n"
     ]
    },
    {
     "name": "stdout",
     "output_type": "stream",
     "text": [
      "\n",
      "Inferred GP kernel parameters\n",
      "k_length         [1.4188 0.9699]\n",
      "k_scale          6.029800000000001\n",
      "noise            2.4256\n",
      "\n",
      "Step 23\n"
     ]
    },
    {
     "name": "stderr",
     "output_type": "stream",
     "text": [
      "100%|█| 1000/1000 [00:04<00:00, 226.00it/s, init loss: 1343662.5860, avg. loss [95\n"
     ]
    },
    {
     "name": "stdout",
     "output_type": "stream",
     "text": [
      "\n",
      "Inferred GP kernel parameters\n",
      "k_length         [1.4039 0.9626]\n",
      "k_scale          6.009600000000001\n",
      "noise            2.3797\n",
      "\n",
      "Step 24\n"
     ]
    },
    {
     "name": "stderr",
     "output_type": "stream",
     "text": [
      "100%|█| 1000/1000 [00:04<00:00, 224.77it/s, init loss: 1345476.5368, avg. loss [95\n"
     ]
    },
    {
     "name": "stdout",
     "output_type": "stream",
     "text": [
      "\n",
      "Inferred GP kernel parameters\n",
      "k_length         [1.4249 0.9689]\n",
      "k_scale          6.0120000000000005\n",
      "noise            2.3821000000000003\n",
      "\n",
      "Step 25\n"
     ]
    },
    {
     "name": "stderr",
     "output_type": "stream",
     "text": [
      "100%|█| 1000/1000 [00:04<00:00, 244.36it/s, init loss: 1348647.5247, avg. loss [95\n"
     ]
    },
    {
     "name": "stdout",
     "output_type": "stream",
     "text": [
      "\n",
      "Inferred GP kernel parameters\n",
      "k_length         [1.4211 0.9599]\n",
      "k_scale          5.973400000000001\n",
      "noise            2.3943000000000003\n",
      "\n",
      "Step 26\n"
     ]
    },
    {
     "name": "stderr",
     "output_type": "stream",
     "text": [
      "100%|█| 1000/1000 [00:04<00:00, 215.37it/s, init loss: 1349017.3632, avg. loss [95\n"
     ]
    },
    {
     "name": "stdout",
     "output_type": "stream",
     "text": [
      "\n",
      "Inferred GP kernel parameters\n",
      "k_length         [1.4313 0.945 ]\n",
      "k_scale          5.9791\n",
      "noise            2.407\n",
      "\n",
      "Step 27\n"
     ]
    },
    {
     "name": "stderr",
     "output_type": "stream",
     "text": [
      "100%|█| 1000/1000 [00:04<00:00, 238.99it/s, init loss: 1351048.4285, avg. loss [95\n"
     ]
    },
    {
     "name": "stdout",
     "output_type": "stream",
     "text": [
      "\n",
      "Inferred GP kernel parameters\n",
      "k_length         [1.4216 0.9583]\n",
      "k_scale          5.968100000000001\n",
      "noise            2.4358\n",
      "\n",
      "Step 28\n"
     ]
    },
    {
     "name": "stderr",
     "output_type": "stream",
     "text": [
      "100%|█| 1000/1000 [00:05<00:00, 173.26it/s, init loss: 1352475.9561, avg. loss [95\n"
     ]
    },
    {
     "name": "stdout",
     "output_type": "stream",
     "text": [
      "\n",
      "Inferred GP kernel parameters\n",
      "k_length         [1.4168 0.9533]\n",
      "k_scale          5.9707\n",
      "noise            2.4198\n",
      "\n",
      "Step 29\n"
     ]
    },
    {
     "name": "stderr",
     "output_type": "stream",
     "text": [
      "100%|█| 1000/1000 [00:04<00:00, 221.84it/s, init loss: 1357381.1225, avg. loss [95\n"
     ]
    },
    {
     "name": "stdout",
     "output_type": "stream",
     "text": [
      "\n",
      "Inferred GP kernel parameters\n",
      "k_length         [1.4273 0.9615]\n",
      "k_scale          5.978400000000001\n",
      "noise            2.4330000000000003\n",
      "\n",
      "Step 30\n"
     ]
    },
    {
     "name": "stderr",
     "output_type": "stream",
     "text": [
      "100%|█| 1000/1000 [00:04<00:00, 237.04it/s, init loss: 1389132.2803, avg. loss [95\n"
     ]
    },
    {
     "name": "stdout",
     "output_type": "stream",
     "text": [
      "\n",
      "Inferred GP kernel parameters\n",
      "k_length         [1.4198 0.9679]\n",
      "k_scale          5.9295\n",
      "noise            2.4008000000000003\n"
     ]
    },
    {
     "ename": "NameError",
     "evalue": "name 'cmf' is not defined",
     "output_type": "error",
     "traceback": [
      "\u001b[0;31m---------------------------------------------------------------------------\u001b[0m",
      "\u001b[0;31mNameError\u001b[0m                                 Traceback (most recent call last)",
      "Cell \u001b[0;32mIn[12], line 62\u001b[0m\n\u001b[1;32m     59\u001b[0m     traj_mean1\u001b[38;5;241m.\u001b[39mappend(traj_m)\n\u001b[1;32m     60\u001b[0m     traj_std1\u001b[38;5;241m.\u001b[39mappend(traj_s)\n\u001b[0;32m---> 62\u001b[0m _ \u001b[38;5;241m=\u001b[39m \u001b[43mcmf\u001b[49m\u001b[38;5;241m.\u001b[39mlog_dataset(\u001b[38;5;124m\"\u001b[39m\u001b[38;5;124mVAEDKL_logs/X_al.npy\u001b[39m\u001b[38;5;124m\"\u001b[39m,\u001b[38;5;124m\"\u001b[39m\u001b[38;5;124minput\u001b[39m\u001b[38;5;124m\"\u001b[39m)\n\u001b[1;32m     63\u001b[0m _ \u001b[38;5;241m=\u001b[39m cmf\u001b[38;5;241m.\u001b[39mlog_dataset(\u001b[38;5;124m\"\u001b[39m\u001b[38;5;124mVAEDKL_logs/trgt_enthalpy_al.npy\u001b[39m\u001b[38;5;124m\"\u001b[39m,\u001b[38;5;124m\"\u001b[39m\u001b[38;5;124minput\u001b[39m\u001b[38;5;124m\"\u001b[39m)\n\u001b[1;32m     65\u001b[0m _ \u001b[38;5;241m=\u001b[39m cmf\u001b[38;5;241m.\u001b[39mlog_dataset(\u001b[38;5;124m\"\u001b[39m\u001b[38;5;124mVAEDKL_logs/active_train_0.npy\u001b[39m\u001b[38;5;124m\"\u001b[39m,\u001b[38;5;124m\"\u001b[39m\u001b[38;5;124moutput\u001b[39m\u001b[38;5;124m\"\u001b[39m)\n",
      "\u001b[0;31mNameError\u001b[0m: name 'cmf' is not defined"
     ]
    }
   ],
   "source": [
    "exp_mean1, exp_std1 = [], []\n",
    "dkl_mean1, dkl_std1 = [], []\n",
    "embed_traj1 = []\n",
    "traj_mean1, traj_std1 = [], []\n",
    "\n",
    "exploration_steps = exp_step\n",
    "\n",
    "\n",
    "for e in range(exploration_steps):\n",
    "    print(\"\\nStep {}\".format(e+1))\n",
    "    # Obtain/update DKL posterior\n",
    "    rng_key11, rng_key_predict11 = gpax.utils.get_keys()\n",
    "    dkl_BO_1 = gpax.viDKL(s2*s3, 2, 'RBF')\n",
    "    if e == 0:\n",
    "        torch.save(dkl_BO_1.nn_params,f\"VAEDKL_logs/active_learning_model_{e}.pth\")\n",
    "    dkl_BO_1.fit(rng_key11, X1_train, y1_train)\n",
    "    torch.save(dkl_BO_1.nn_params,f\"VAEDKL_logs/active_learning_model_{e+1}.pth\")\n",
    "    \n",
    "    # Compute acqusition function\n",
    "    y_mean, y_var = dkl_BO_1.predict_in_batches(#make prediction batch-by-batch to avoid memory overflow\n",
    "        rng_key_predict11, X1_unmeasured, batch_size=250)\n",
    "    y_std = jnp.sqrt(y_var)\n",
    "    obj = y_mean + 10 * y_std\n",
    "    # Get the next point to evaluate\n",
    "    id_next = obj.argmax()\n",
    "    np.save(f\"VAEDKL_logs/next_pt_{e}.npy\",np.array(id_next))\n",
    "\n",
    "    # let's get the mean and std of the next point predicted by dkl_BO\n",
    "    exp_mean1.append(y_mean[id_next])\n",
    "    exp_std1.append(y_std[id_next])\n",
    "\n",
    "    x_next = X1_unmeasured[id_next]\n",
    "    ind_next = indices_unmeasured_1[id_next]\n",
    "\n",
    "    # Getting the mean and std of the next point as predicted by the dkl trained on the full dataset\n",
    "    dkl_mean1.append(pred_mean1[ind_next])\n",
    "    dkl_std1.append(pred_std1[ind_next])\n",
    "\n",
    "    # Perform evaluation\n",
    "    y_measured = targets1[ind_next]\n",
    "\n",
    "    # Update training arrays\n",
    "    X1_train = np.append(X1_train, x_next[None], axis=0)\n",
    "    y1_train = np.append(y1_train, y_measured)\n",
    "    X1_unmeasured = np.delete(X1_unmeasured, id_next, axis=0)\n",
    "    indices_unmeasured_1 = np.delete(indices_unmeasured_1, id_next)\n",
    "\n",
    "    np.save(f\"VAEDKL_logs/active_train_{e+1}.npy\", np.array(X1_train))\n",
    "    np.save(f\"VAEDKL_logs/active_trgt_{e+1}.npy\", np.array(y1_train))\n",
    "    \n",
    "    embed_traj = dkl_BO_1.embed(X1_train)\n",
    "    traj_m, traj_s = dkl_BO_1.predict_in_batches(  # make prediction batch-by-batch to avoid memory overflow\n",
    "        rng_key_predict11, X1_train, batch_size=batch_size_learn)\n",
    "\n",
    "    np.save(f\"VAEDKL_logs/embed_traj_{e+1}.npy\",np.array(embed_traj))\n",
    "    \n",
    "    \n",
    "    embed_traj1.append(embed_traj)\n",
    "    traj_mean1.append(traj_m)\n",
    "    traj_std1.append(traj_s)\n",
    "\n"
   ]
  },
  {
   "cell_type": "code",
   "execution_count": 18,
   "id": "b6742a97-0eea-4a04-8cc2-5b34024aed15",
   "metadata": {},
   "outputs": [
    {
     "ename": "AttributeError",
     "evalue": "'NoneType' object has no attribute 'id'",
     "output_type": "error",
     "traceback": [
      "\u001b[0;31m---------------------------------------------------------------------------\u001b[0m",
      "\u001b[0;31mAttributeError\u001b[0m                            Traceback (most recent call last)",
      "Cell \u001b[0;32mIn[18], line 1\u001b[0m\n\u001b[0;32m----> 1\u001b[0m _ \u001b[38;5;241m=\u001b[39m \u001b[43mcmf\u001b[49m\u001b[38;5;241;43m.\u001b[39;49m\u001b[43mlog_dataset\u001b[49m\u001b[43m(\u001b[49m\u001b[38;5;124;43m\"\u001b[39;49m\u001b[38;5;124;43mVAEDKL_logs/X_al.npy\u001b[39;49m\u001b[38;5;124;43m\"\u001b[39;49m\u001b[43m,\u001b[49m\u001b[38;5;124;43m\"\u001b[39;49m\u001b[38;5;124;43minput\u001b[39;49m\u001b[38;5;124;43m\"\u001b[39;49m\u001b[43m)\u001b[49m\n\u001b[1;32m      2\u001b[0m _ \u001b[38;5;241m=\u001b[39m cmf\u001b[38;5;241m.\u001b[39mlog_dataset(\u001b[38;5;124m\"\u001b[39m\u001b[38;5;124mVAEDKL_logs/trgt_enthalpy_al.npy\u001b[39m\u001b[38;5;124m\"\u001b[39m,\u001b[38;5;124m\"\u001b[39m\u001b[38;5;124minput\u001b[39m\u001b[38;5;124m\"\u001b[39m)\n\u001b[1;32m      4\u001b[0m _ \u001b[38;5;241m=\u001b[39m cmf\u001b[38;5;241m.\u001b[39mlog_dataset(\u001b[38;5;124m\"\u001b[39m\u001b[38;5;124mVAEDKL_logs/active_train_0.npy\u001b[39m\u001b[38;5;124m\"\u001b[39m,\u001b[38;5;124m\"\u001b[39m\u001b[38;5;124moutput\u001b[39m\u001b[38;5;124m\"\u001b[39m)\n",
      "File \u001b[0;32m/lustre/saranath/miniconda3/envs/vaedkl/lib/python3.9/site-packages/cmflib/cmf.py:632\u001b[0m, in \u001b[0;36mCmf.log_dataset\u001b[0;34m(self, url, event, custom_properties, external)\u001b[0m\n\u001b[1;32m    629\u001b[0m \u001b[38;5;28;01mif\u001b[39;00m event\u001b[38;5;241m.\u001b[39mlower() \u001b[38;5;241m==\u001b[39m \u001b[38;5;124m\"\u001b[39m\u001b[38;5;124minput\u001b[39m\u001b[38;5;124m\"\u001b[39m:\n\u001b[1;32m    630\u001b[0m     event_type \u001b[38;5;241m=\u001b[39m mlpb\u001b[38;5;241m.\u001b[39mEvent\u001b[38;5;241m.\u001b[39mType\u001b[38;5;241m.\u001b[39mINPUT\n\u001b[0;32m--> 632\u001b[0m commit_output(url, \u001b[38;5;28;43mself\u001b[39;49m\u001b[38;5;241;43m.\u001b[39;49m\u001b[43mexecution\u001b[49m\u001b[38;5;241;43m.\u001b[39;49m\u001b[43mid\u001b[49m)\n\u001b[1;32m    633\u001b[0m c_hash \u001b[38;5;241m=\u001b[39m dvc_get_hash(url)\n\u001b[1;32m    634\u001b[0m dataset_commit \u001b[38;5;241m=\u001b[39m c_hash\n",
      "\u001b[0;31mAttributeError\u001b[0m: 'NoneType' object has no attribute 'id'"
     ]
    }
   ],
   "source": [
    "_ = cmf.log_dataset(\"VAEDKL_logs/X_al.npy\",\"input\")\n",
    "_ = cmf.log_dataset(\"VAEDKL_logs/trgt_enthalpy_al.npy\",\"input\")\n",
    "\n",
    "_ = cmf.log_dataset(\"VAEDKL_logs/active_train_0.npy\",\"output\")\n",
    "_ = cmf.log_dataset(\"VAEDKL_logs/active_trgt_0.npy\",\"output\")\n",
    "\n",
    "\n",
    "_ = cmf.log_model(\"VAEDKL_logs/active_learning_model_0.pt\",\"input\",model_framework=\"pytorch\")\n",
    "\n",
    "\n",
    "for e in range(exploration_steps):\n",
    "    _ = cmf.create_execution(execution_type=f\"ActiveLearningTrainingExp{e}\", custom_properties={\"Execution_Step\":e})\n",
    "\n",
    "    _ = cmf.log_model(f\"VAEDKL_logs/active_learning_model_{e+1}.pth\",\"output\")\n",
    "    _ = cmf.log_dataset(f\"VAEDKL_logs/active_train_{e+1}.npy\",\"output\")\n",
    "    _ = cmf.log_dataset(f\"VAEDKL_logs/active_trgt_{e+1}.npy\",\"output\")\n",
    "    _ = cmf.log_dataset(f\"VAEDKL_logs/embed_traj_{e+1}.npy\",\"output\")\n",
    "    \n",
    "    _ = cmf.log_model(f\"VAEDKL_logs/active_learning_model_{e}.pth\",\"input\")\n",
    "    _ = cmf.log_dataset(f\"VAEDKL_logs/active_train_{e}.npy\",\"input\")\n",
    "    _ = cmf.log_dataset(f\"VAEDKL_logs/active_trgt_{e}.npy\",\"input\")\n",
    "        "
   ]
  },
  {
   "cell_type": "code",
   "execution_count": null,
   "id": "835e7b8b-958b-4216-8869-6dfc25c6d0cf",
   "metadata": {},
   "outputs": [],
   "source": [
    "#prediction\n",
    "rng_key11, rng_key_predict11 = gpax.utils.get_keys()\n",
    "dkl_BO_1 = gpax.viDKL(s2*s3, 2, 'RBF')\n",
    "dkl_BO_1.fit(rng_key11, X1_train, y1_train)\n",
    "\n",
    "predmean_train1, predstd_train1 = dkl_BO_1.predict_in_batches(rng_key_predict11,\n",
    "                                                              X1_train, batch_size=batch_size_learn)\n",
    "predmean_unmeas1, predstd_unmeas1 = dkl_BO_1.predict_in_batches(rng_key_predict11,\n",
    "                                                                X1_unmeasured, batch_size=batch_size_reconstruct)\n",
    "predmean11, predstd11 = dkl_BO_1.predict_in_batches(rng_key_predict11, X1,\n",
    "                                                    batch_size=batch_size_reconstruct)\n",
    "\n",
    "\n",
    "embeded_train1 = dkl_BO_1.embed(X1_train)  # Measured points\n",
    "embeded_unmeasured1 = dkl_BO_1.embed(X1_unmeasured)  # Unmeasured points\n",
    "embeded11 = dkl_BO_1.embed(X1)   # All points\n",
    "\n",
    "#visualize the latent space\n",
    "fig, ax = plt.subplots(nrows = 2, ncols = 3, figsize = (18,12))\n",
    "\n",
    "im = ax[0,0].scatter(embeded_train1[:, 1], embeded_train1[:, 0], s=10, c = predmean_train1, cmap = 'jet')\n",
    "ax[0,0].set_title('Measured points')\n",
    "cbar = fig.colorbar(im, ax=ax[0,0], shrink=.8)\n",
    "cbar.set_label(\"Predicted_Target\", fontsize=14)\n",
    "cbar.ax.tick_params(labelsize=10)\n",
    "\n",
    "im = ax[1,0].scatter(embeded_unmeasured1[:, 1], embeded_unmeasured1[:, 0], s=10,\n",
    "                c = predmean_unmeas1, cmap = 'jet')\n",
    "ax[1,0].set_title('UnMeasured points')\n",
    "cbar = fig.colorbar(im, ax=ax[0,1], shrink=.8)\n",
    "cbar.set_label(\"Predicted_Target\", fontsize=14)\n",
    "cbar.ax.tick_params(labelsize=10)\n",
    "\n",
    "im = ax[0,1].scatter(embeded11[:, 1], embeded11[:, 0], s=10, c = predmean11, cmap = 'jet')\n",
    "ax[0,1].set_title('All points')\n",
    "cbar = fig.colorbar(im, ax=ax[0,2], shrink=.8)\n",
    "cbar.set_label(\"Predicted_Target\", fontsize=14)\n",
    "cbar.ax.tick_params(labelsize=10)\n",
    "\n",
    "im = ax[1,1].scatter(embeded11[:, 1], embeded11[:, 0], s=10, c = targets1, cmap = 'jet')\n",
    "ax[1,1].set_title('All points (Groung truth)')\n",
    "cbar = fig.colorbar(im, ax=ax[1,0], shrink=.8)\n",
    "cbar.set_label(\"Class_Labels\", fontsize=14)\n",
    "cbar.ax.tick_params(labelsize=10)\n",
    "\n",
    "im = ax[0,2].scatter(embeded11[:, 1], embeded11[:, 0], s=10, c = predmean11 - targets1, cmap = 'jet')\n",
    "ax[0,2].set_title('Error')\n",
    "cbar = fig.colorbar(im, ax=ax[1,1], shrink=.8)\n",
    "#cbar.set_label(\"Log(P)\", fontsize=14)\n",
    "cbar.ax.tick_params(labelsize=10)\n",
    "\n",
    "im = ax[1,2].scatter(embeded11[:, 1], embeded11[:, 0], s=10, c = predstd11, cmap = 'jet')\n",
    "ax[1,2].set_title('Uncertainty')\n",
    "cbar = fig.colorbar(im, ax=ax[1,2], shrink=.8)\n",
    "#cbar.set_label(\"Wt\", fontsize=14)\n",
    "cbar.ax.tick_params(labelsize=10)"
   ]
  },
  {
   "cell_type": "code",
   "execution_count": null,
   "id": "ed3f3a9e-5d2a-4915-b6d9-d2d1b050b682",
   "metadata": {},
   "outputs": [],
   "source": []
  }
 ],
 "metadata": {
  "kernelspec": {
   "display_name": "vaedkl",
   "language": "python",
   "name": "vaedkl"
  },
  "language_info": {
   "codemirror_mode": {
    "name": "ipython",
    "version": 3
   },
   "file_extension": ".py",
   "mimetype": "text/x-python",
   "name": "python",
   "nbconvert_exporter": "python",
   "pygments_lexer": "ipython3",
   "version": "3.9.18"
  }
 },
 "nbformat": 4,
 "nbformat_minor": 5
}
